{
 "cells": [
  {
   "cell_type": "code",
   "execution_count": 4,
   "metadata": {},
   "outputs": [
    {
     "name": "stdout",
     "output_type": "stream",
     "text": [
      "<class 'collections.abc.Mapping'>\n"
     ]
    }
   ],
   "source": [
    "from collections.abc import Mapping\n",
    "print(Mapping)"
   ]
  },
  {
   "cell_type": "code",
   "execution_count": 5,
   "metadata": {},
   "outputs": [],
   "source": [
    "import collections.abc\n",
    "\n",
    "# add attributes to `collections` module\n",
    "# before you import the package that causes the issue\n",
    "collections.Mapping = collections.abc.Mapping\n",
    "collections.MutableMapping = collections.abc.MutableMapping\n",
    "collections.Iterable = collections.abc.Iterable\n",
    "collections.MutableSet = collections.abc.MutableSet\n",
    "collections.Callable = collections.abc.Callable"
   ]
  },
  {
   "cell_type": "code",
   "execution_count": 6,
   "metadata": {},
   "outputs": [],
   "source": [
    "import numpy as np\n",
    "# from tqdm import tqdm\n",
    "from tensorflow.python.keras.callbacks import EarlyStopping, ModelCheckpoint\n",
    "import os\n",
    "import cv2\n",
    "from sklearn.model_selection import train_test_split\n",
    "from keras.models import Sequential\n",
    "from keras.layers import Dropout, Dense\n",
    "from keras.layers import Flatten, Conv2D, MaxPooling2D\n",
    "from keras.models import load_model\n",
    "from matplotlib import pyplot as plt\n",
    "from keras.preprocessing.image import ImageDataGenerator\n",
    "import pandas as pd\n",
    "import numpy as np\n",
    "import warnings\n",
    "from glob import glob\n",
    "import tensorflow as tf\n",
    "from tensorflow.keras.callbacks import EarlyStopping, ModelCheckpoint\n",
    "from tensorflow import keras\n",
    "from sklearn.model_selection import train_test_split\n",
    "import random\n",
    "import os\n",
    "import matplotlib.pyplot as plt"
   ]
  },
  {
   "cell_type": "code",
   "execution_count": 7,
   "metadata": {},
   "outputs": [],
   "source": [
    "def canny_img(img): #이미지의 외곽선을 추출하는 함수\n",
    "    image_gray = cv2.cvtColor(img, cv2.COLOR_RGB2GRAY) #이미지를 grayscale로 변환하여 외곽선 검출 쉽게함\n",
    "    image_blur = cv2.GaussianBlur(image_gray, (1,1), 0) #grayscale로 변환한 이미지를 blur처리함\n",
    "    median_intensity = np.median(img) #원본 이미지의 중간값을 추출함\n",
    "    \n",
    "    lower_threshold = int(max(0, 1.5 * median_intensity))\n",
    "    upper_threshold = int(min(255, 1.5 * median_intensity)) # 중간 픽셀 강도에 1.5를 곱한 값을 임곗값으로 지정\n",
    "    image_canny = cv2.Canny(image_blur, lower_threshold, upper_threshold) # 임계값 이상의 픽셀을 외곽선으로 인식하여 Canny edge detection 적용\n",
    "    cont_list = []\n",
    "    for v_index,i in enumerate(image_canny):\n",
    "        for h_index,n in enumerate(i):\n",
    "            if n != 0:\n",
    "                cont_list.append([v_index,h_index]) #image_canny의 각 픽셀을 조사하여 값이 0이 아니면(contour 이면) 좌표를 cont_list에 저장함\n",
    "    cont_list = np.array(cont_list)\n",
    "    return cont_list #cont_list를 return"
   ]
  },
  {
   "cell_type": "code",
   "execution_count": 56,
   "metadata": {},
   "outputs": [],
   "source": [
    "from xml.etree.ElementTree import Element, SubElement, ElementTree\n",
    "\n",
    "\n",
    "def _pretty_print(current, parent=None, index=-1, depth=0):\n",
    "    for i, node in enumerate(current):\n",
    "        _pretty_print(node, current, i, depth + 1)\n",
    "    if parent is not None:\n",
    "        if index == 0:\n",
    "            parent.text = '\\n' + ('\\t' * depth)\n",
    "        else:\n",
    "            parent[index - 1].tail = '\\n' + ('\\t' * depth)\n",
    "        if index == len(parent) - 1:\n",
    "            current.tail = '\\n' + ('\\t' * (depth - 1))\n",
    "\n",
    "def write_xml(xmin, ymin, xmax, ymax, category, index):\n",
    "    root = Element(\"annotation\")\n",
    "    element1 = Element(\"folder\")\n",
    "    root.append(element1)\n",
    "    element1.text = \"JPEGImages\"\n",
    "\n",
    "    element2 = Element(\"filename\")\n",
    "    root.append(element2)\n",
    "    element2.text = \"bowl1_1.jpg\"    #filename 지정\n",
    "\n",
    "    element3 = Element(\"path\")\n",
    "    root.append(element3)\n",
    "    element3.text = \"/Users/junsikham/Downloads/JPEGImages/파일이름\"    #filename 지정\n",
    "\n",
    "    element4 = Element(\"size\")\n",
    "    root.append(element4)\n",
    "\n",
    "    sub_element4_1 = SubElement(element4, \"width\")\n",
    "    sub_element4_1.text = \"3024\"    #width 입력\n",
    "    sub_element4_2 = SubElement(element4, \"width\")\n",
    "    sub_element4_2.text = \"4032\"    #height 입력\n",
    "    sub_element4_3 = SubElement(element4, \"width\")\n",
    "    sub_element4_3.text = \"3\"    #depth 입력\n",
    "\n",
    "    element5 = Element(\"object\")\n",
    "    root.append(element5)\n",
    "\n",
    "    sub_element5_1 = SubElement(element5, \"name\")\n",
    "    sub_element5_1.text = \"bowl\"+str(category+1)    #class 입력\n",
    "    sub_element5_2 = SubElement(element5, \"pose\")\n",
    "    sub_element5_2.text = \"Unspecified\"\n",
    "    sub_element5_3 = SubElement(element5, \"truncated\")\n",
    "    sub_element5_3.text = \"0\"\n",
    "    sub_element5_4 = SubElement(element5, \"difficult\")\n",
    "    sub_element5_4.text = \"0\"\n",
    "    sub_element5_5 = SubElement(element5, \"bndbox\")\n",
    "    sub_element5_5_1 = SubElement(sub_element5_5, \"xmin\")\n",
    "    sub_element5_5_1.text = str(xmin)\n",
    "    sub_element5_5_2 = SubElement(sub_element5_5, \"ymin\")\n",
    "    sub_element5_5_2.text = str(ymin)\n",
    "    sub_element5_5_3 = SubElement(sub_element5_5, \"xmax\")\n",
    "    sub_element5_5_3.text = str(xmax)\n",
    "    sub_element5_5_4 = SubElement(sub_element5_5, \"ymax\")\n",
    "    sub_element5_5_4.text = str(ymax)\n",
    "\n",
    "\n",
    "\n",
    "    _pretty_print(root)\n",
    "\n",
    "    tree = ElementTree(root)\n",
    "\n",
    "    fileName = \"bowl\"+str(category+1)+\"_\"+str(index)+\".xml\"\n",
    "    with open(fileName, \"wb\") as file:\n",
    "        tree.write(file, encoding='utf-8', xml_declaration=True)"
   ]
  }
 ],
 "metadata": {
  "kernelspec": {
   "display_name": "Python 3.10.7 64-bit",
   "language": "python",
   "name": "python3"
  },
  "language_info": {
   "codemirror_mode": {
    "name": "ipython",
    "version": 3
   },
   "file_extension": ".py",
   "mimetype": "text/x-python",
   "name": "python",
   "nbconvert_exporter": "python",
   "pygments_lexer": "ipython3",
   "version": "3.10.7"
  },
  "orig_nbformat": 4,
  "vscode": {
   "interpreter": {
    "hash": "039edf5455691cefdaa8e4855ae54bad514a7587ba997e5288146b2d8c8005a5"
   }
  }
 },
 "nbformat": 4,
 "nbformat_minor": 2
}
